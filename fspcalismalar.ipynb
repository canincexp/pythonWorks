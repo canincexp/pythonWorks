{
 "cells": [
  {
   "cell_type": "code",
   "execution_count": 1,
   "metadata": {},
   "outputs": [
    {
     "name": "stdout",
     "output_type": "stream",
     "text": [
      "10.0\n"
     ]
    }
   ],
   "source": [
    "def calculateAverageAge(students):\n",
    "  add_age = 0\n",
    "  for thing in students.values():\n",
    "      age = thing['age']\n",
    "      add_age = add_age + age\n",
    "    \n",
    "  return(add_age / len(students.keys()))\n",
    "\n",
    "students = {\n",
    "      \"Peter\": {\"age\": 10, \"address\": \"Lisbon\"},\n",
    "      \"Isabel\": {\"age\": 11, \"address\": \"Sesimbra\"},\n",
    "      \"Anna\": {\"age\": 9, \"address\": \"Lisbon\"},\n",
    "      \"Gibrael\": {\"age\": 10, \"address\": \"Sesimbra\"},\n",
    "      \"Susan\": {\"age\": 11, \"address\": \"Lisbon\"},\n",
    "      \"Charles\": {\"age\": 9, \"address\": \"Sesimbra\"},\n",
    "  }\n",
    "print(calculateAverageAge(students))"
   ]
  },
  {
   "cell_type": "code",
   "execution_count": 2,
   "metadata": {},
   "outputs": [
    {
     "name": "stdout",
     "output_type": "stream",
     "text": [
      "['Anna', 'Peter']\n"
     ]
    }
   ],
   "source": [
    "def find_students(address, students):\n",
    "  names = []\n",
    "  for key, subdict in students.items():\n",
    "       for sublist in subdict.values():\n",
    "          if (sublist == address):\n",
    "             names.append(key)\n",
    "  return sorted(names)\n",
    "\n",
    "students = {\n",
    "      \"Peter\": {\"age\": 10, \"address\": \"Lisbon\"},\n",
    "      \"Isabel\": {\"age\": 11, \"address\": \"Sesimbra\"},\n",
    "      \"Anna\": {\"age\": 9, \"address\": \"Lisbon\"},\n",
    "}\n",
    "print(find_students(\"Lisbon\", students))"
   ]
  },
  {
   "cell_type": "code",
   "execution_count": 3,
   "metadata": {},
   "outputs": [],
   "source": [
    "class Person:\n",
    "\n",
    "      def __init__(self, name, age): # class constructor\n",
    "          self.name = name # class variable\n",
    "          self.age = age # class variable\n",
    "\n",
    "      def greet(self): # class function to print a greeting\n",
    "          print(\"Hello, my name is %s!\" % self.name)"
   ]
  },
  {
   "cell_type": "code",
   "execution_count": 4,
   "metadata": {},
   "outputs": [
    {
     "name": "stdout",
     "output_type": "stream",
     "text": [
      "Hello, my name is Peter!\n",
      "Hello, my name is Anna!\n",
      "Peter\n",
      "20\n",
      "Anna\n",
      "19\n"
     ]
    }
   ],
   "source": [
    "class Person:\n",
    "\n",
    "     def __init__(self, name, age): # class constructor\n",
    "         self.name = name # class variable\n",
    "         self.age = age # class variable\n",
    "\n",
    "     def greet(self): # class function to print a greeting\n",
    "         print(\"Hello, my name is %s!\" % self.name)\n",
    "        \n",
    "\n",
    "a = Person(\"Peter\", 20) # instantiation\n",
    "b = Person(\"Anna\", 19) # instantiation\n",
    "\n",
    "a.greet() # call a's greet method\n",
    "b.greet() # call b's greet method\n",
    "\n",
    "print(a.name)\n",
    "print(a.age)  # We can also access the attributes of an object\n",
    "\n",
    "print(b.name)\n",
    "print(b.age)  # We can also access the attributes of an object"
   ]
  },
  {
   "cell_type": "code",
   "execution_count": 5,
   "metadata": {},
   "outputs": [
    {
     "name": "stdout",
     "output_type": "stream",
     "text": [
      "6\n",
      "3\n"
     ]
    }
   ],
   "source": [
    "class Rectangle:\n",
    "  def __init__(self, x1, y1, x2, y2): # class constructor\n",
    "    if x1<x2 and y1>y2:\n",
    "      self.x1 = x1 # class variable\n",
    "      self.y1 = y1 # class variable\n",
    "      self.x2 = x2 # class variable\n",
    "      self.y2 = y2 # class variable\n",
    "    else:\n",
    "      print(\"Incorrect coordinates of the rectangle!\")\n",
    "        \n",
    "  def width(self):\n",
    "    return self.x2-self.x1\n",
    "      \n",
    "  def height(self):\n",
    "    return self.y1-self.y2\n",
    "  \n",
    "rectangle = Rectangle(2, 7, 8, 4)\n",
    "print(rectangle.width())\n",
    "print(rectangle.height())"
   ]
  },
  {
   "cell_type": "code",
   "execution_count": 6,
   "metadata": {},
   "outputs": [
    {
     "name": "stdout",
     "output_type": "stream",
     "text": [
      "Area: 18\n",
      "Perimeter: 18\n"
     ]
    }
   ],
   "source": [
    "class Rectangle:\n",
    "  def __init__(self, x1, y1, x2, y2): # class constructor\n",
    "    if x1<x2 and y1>y2:\n",
    "      self.x1 = x1 # class variable\n",
    "      self.y1 = y1 # class variable\n",
    "      self.x2 = x2 # class variable\n",
    "      self.y2 = y2 # class variable\n",
    "    else:\n",
    "      print(\"Incorrect coordinates of the rectangle!\")\n",
    "        \n",
    "  def width(self):\n",
    "    return self.x2-self.x1\n",
    "      \n",
    "  def height(self):\n",
    "    return self.y1-self.y2\n",
    "  \n",
    "  def area(self):\n",
    "    return self.width()*self.height()\n",
    "  \n",
    "  def perimeter(self):\n",
    "    return 2 * self.width() + 2 * self.height()\n",
    "\n",
    "# test your code\n",
    "r = Rectangle (2, 7, 8, 4)\n",
    "print(\"Area: \" + str(r.area()))\n",
    "print(\"Perimeter: \" + str(r.perimeter()))"
   ]
  },
  {
   "cell_type": "code",
   "execution_count": 7,
   "metadata": {},
   "outputs": [
    {
     "name": "stdout",
     "output_type": "stream",
     "text": [
      "<__main__.Rectangle object at 0x0000022C54A8FD60>\n"
     ]
    }
   ],
   "source": [
    "class Rectangle:\n",
    "  def __init__(self, x1, y1, x2, y2): # class constructor\n",
    "    if x1 < x2 and y1 > y2:\n",
    "      self.x1 = x1 # class variable\n",
    "      self.y1 = y1 # class variable\n",
    "      self.x2 = x2 # class variable\n",
    "      self.y2 = y2 # class variable\n",
    "    else:\n",
    "      print(\"Incorrect coordinates of the rectangle!\")\n",
    "        \n",
    "  \n",
    "# test your code\n",
    "r = Rectangle (2, 7, 8, 4)\n",
    "print (r)"
   ]
  },
  {
   "cell_type": "code",
   "execution_count": 10,
   "metadata": {},
   "outputs": [
    {
     "name": "stdout",
     "output_type": "stream",
     "text": [
      "I don't talk to strangers!!\n"
     ]
    }
   ],
   "source": [
    "class Person:\n",
    "      def __init__(self, name, age): # Person's constructor\n",
    "          self.name = name # Person's attribute\n",
    "          self.age = age # Person's attribute\n",
    "\n",
    "      def greet(self): # Person's method\n",
    "          print(\"Hello, my name is %s!\" % self.name)\n",
    "\n",
    "class TenYearOldPerson(Person): # TenYearOldPerson inherits from Person\n",
    "\n",
    "      def __init__(self, name): # TenYearOldPerson's constructor\n",
    "          Person.__init__(self, name, 10) # accesses Person's constructor\n",
    "\n",
    "      def greet(self): # rewrites the greet method\n",
    "          print(\"I don't talk to strangers!!\")\n",
    "\n",
    "tyo = TenYearOldPerson(\"Jack\") # instance of TenYearOldPerson\n",
    "tyo.greet() # call greet method of the TenYearOldPerson"
   ]
  },
  {
   "cell_type": "code",
   "execution_count": 11,
   "metadata": {},
   "outputs": [
    {
     "name": "stdout",
     "output_type": "stream",
     "text": [
      "I eat meat.\n"
     ]
    }
   ],
   "source": [
    "class Animal ():\n",
    "  def __init__(self, name, food, characteristic):\n",
    "    self.name = name\n",
    "    self.characteristic = characteristic\n",
    "    self.food = food\n",
    "  def printer(self):\n",
    "    print (\"I am a \" + str(self.name) + \".\")\n",
    "    \n",
    "class Mammal (Animal):\n",
    "  def __init__(self, name, food):\n",
    "    Animal.__init__(self, name, food, \"warm blooded\")\n",
    "  def printer(self):\n",
    "    print (\"I am warm blooded.\")\n",
    "    \n",
    "class Carnivore (Mammal):\n",
    "  def __init__(self, name):\n",
    "    Mammal.__init__(self, name, \"meat\")\n",
    "  def printer(self):\n",
    "    print (\"I eat meat.\")\n",
    "\n",
    "lion = Carnivore(\"lion\")\n",
    "lion.printer()"
   ]
  },
  {
   "cell_type": "code",
   "execution_count": 12,
   "metadata": {},
   "outputs": [
    {
     "name": "stdout",
     "output_type": "stream",
     "text": [
      "Hi, I am Ali.\n",
      "My roll number is 13K-1234.\n",
      "I teach Data Structures.\n",
      "I got an A in Data Structures.\n",
      "\n",
      "\n",
      "Ahmed, you can not apply for TAship.\n"
     ]
    }
   ],
   "source": [
    "class Person:\n",
    "  def __init__(self, name):\n",
    "      self.name = name\n",
    "\n",
    "  def greet(self):\n",
    "    print(\"Hi, I am \" + self.name + \".\")\n",
    "\n",
    "\n",
    "class Student (Person): # Student inherits from Person class\n",
    "  def __init__(self, name, rollNumber):\n",
    "    self.name = name # Attribute inherited from the Person class\n",
    "    self.rollNumber = rollNumber # Student's attribute\n",
    "    Person.__init__(self, name) # Person's constructor\n",
    "\n",
    "  def report(self): # Student's method\n",
    "    print(\"My roll number is \" + self.rollNumber + \".\")\n",
    "\n",
    "class Teacher (Person): # Teacher inherits from Person class\n",
    "  def __init__(self, name, course):\n",
    "    self.name = name # Attribute inherited from the Person class\n",
    "    self.course = course # Teacher's attribute\n",
    "    Person.__init__(self, name) # Person's constructor   \n",
    "\n",
    "  def introduce(self): # Teacher's method\n",
    "    print(\"I teach \" + self.course + \".\")\n",
    "\n",
    "class TA (Student, Teacher): # TA inherits from Student and Teacher class\n",
    "  def __init__(self, name, rollNumber, course, grade):\n",
    "    self.name = name # Attribute inherited from the Person class\n",
    "    self.rollNumber = rollNumber # Attribute inherited from the Student class\n",
    "    self.course = course # Attribute inherited from the Teacher class\n",
    "    self.grade = grade # TA's attribute\n",
    "    \n",
    "  def details(self): # TA's method\n",
    "    if self.grade==\"A*\" or self.grade==\"A\" or self.grade==\"A-\": # if person is elligible for TAship\n",
    "      Person.greet(self) # can access Person's greet method\n",
    "      Student.report(self) # can access Student's report method\n",
    "      Teacher.introduce(self) # can access Teacher's introduce method\n",
    "      print (\"I got an \" + self.grade + \" in \" + self.course + \".\")\n",
    "    else: # person is not elligible for TAship\n",
    "      print(self.name + \", you can not apply for TAship.\")\n",
    "    \n",
    "ta = TA('Ali', '13K-1234', 'Data Structures' ,'A') # TA object\n",
    "ta.details()\n",
    "\n",
    "#uncomment any of the following lines of code and see how they work\n",
    "# ta.greet()\n",
    "# ta.report()\n",
    "# ta.introduce()\n",
    "\n",
    "print(\"\\n\")\n",
    "\n",
    "ta2 = TA('Ahmed', '14K-5678', 'Algorithms' ,'B')\n",
    "ta2.details()"
   ]
  },
  {
   "cell_type": "code",
   "execution_count": 13,
   "metadata": {},
   "outputs": [
    {
     "name": "stdout",
     "output_type": "stream",
     "text": [
      "1\n",
      "2\n",
      "3\n"
     ]
    }
   ],
   "source": [
    "my_iter = iter([1, 2, 3])\n",
    "print (next(my_iter))\n",
    "print (next(my_iter))\n",
    "print (next(my_iter))"
   ]
  },
  {
   "cell_type": "code",
   "execution_count": 1,
   "metadata": {},
   "outputs": [
    {
     "name": "stdout",
     "output_type": "stream",
     "text": [
      "[2, 4, 6, 8]\n"
     ]
    },
    {
     "name": "stderr",
     "output_type": "stream",
     "text": [
      "<>:13: SyntaxWarning: \"is\" with a literal. Did you mean \"==\"?\n",
      "<>:13: SyntaxWarning: \"is\" with a literal. Did you mean \"==\"?\n",
      "<ipython-input-1-5d3bee259fab>:13: SyntaxWarning: \"is\" with a literal. Did you mean \"==\"?\n",
      "  if i % 2 is 0: # checks if number is even\n"
     ]
    }
   ],
   "source": [
    "#even iterator\n",
    "\n",
    "class MyRange:\n",
    "  def __init__(self, n):\n",
    "    self.n = n\n",
    "\n",
    "  def __iter__(self):\n",
    "    return self\n",
    "\n",
    "  def next(self):\n",
    "    evenArray = [] # next method returns this list\n",
    "    for i in range(1, self.n+1):\n",
    "      if i % 2 is 0: # checks if number is even\n",
    "        value = i\n",
    "        evenArray.append(i) # adds the even number to the list\n",
    "      else: # number was odd\n",
    "        i+=1\n",
    "    return evenArray\n",
    "    \n",
    "myrange = MyRange(8)\n",
    "print (myrange.next())"
   ]
  },
  {
   "cell_type": "code",
   "execution_count": 2,
   "metadata": {},
   "outputs": [
    {
     "name": "stdout",
     "output_type": "stream",
     "text": [
      "1\n",
      "3\n",
      "5\n",
      "7\n"
     ]
    },
    {
     "name": "stderr",
     "output_type": "stream",
     "text": [
      "<>:3: SyntaxWarning: \"is not\" with a literal. Did you mean \"!=\"?\n",
      "<>:3: SyntaxWarning: \"is not\" with a literal. Did you mean \"!=\"?\n",
      "<ipython-input-2-2eb933fb7180>:3: SyntaxWarning: \"is not\" with a literal. Did you mean \"!=\"?\n",
      "  if value % 2 is not 0:\n"
     ]
    }
   ],
   "source": [
    "def odd(n):\n",
    "  for value in range(n + 1):\n",
    "    if value % 2 is not 0:\n",
    "      yield value\n",
    "\n",
    "for j in odd(8):\n",
    "  print(j)"
   ]
  },
  {
   "cell_type": "code",
   "execution_count": 3,
   "metadata": {},
   "outputs": [
    {
     "name": "stdout",
     "output_type": "stream",
     "text": [
      "8\n",
      "7\n",
      "6\n",
      "5\n",
      "4\n",
      "3\n",
      "2\n",
      "1\n",
      "0\n"
     ]
    }
   ],
   "source": [
    "def reverse(n):\n",
    "  for value in range(n, -1, -1):\n",
    "    yield value\n",
    "\n",
    "for i in reverse(8):\n",
    "  print(i)"
   ]
  },
  {
   "cell_type": "code",
   "execution_count": null,
   "metadata": {},
   "outputs": [],
   "source": [
    "#FIBONACCI sayilari ile bagintili\n",
    "\n",
    "def fibonacci(n):\n",
    "  myArray = []\n",
    "  for i in range(n):\n",
    "    if i is 0 or i is 1:\n",
    "      myArray.append(i)\n",
    "      yield i\n",
    "    else:\n",
    "      x = myArray[i-2] + myArray[i-1]\n",
    "      myArray.append(x)\n",
    "      yield x\n",
    "      \n",
    "for i in fibonacci(8):\n",
    "  print(i)"
   ]
  }
 ],
 "metadata": {
  "kernelspec": {
   "display_name": "Python 3",
   "language": "python",
   "name": "python3"
  },
  "language_info": {
   "codemirror_mode": {
    "name": "ipython",
    "version": 3
   },
   "file_extension": ".py",
   "mimetype": "text/x-python",
   "name": "python",
   "nbconvert_exporter": "python",
   "pygments_lexer": "ipython3",
   "version": "3.8.5"
  }
 },
 "nbformat": 4,
 "nbformat_minor": 4
}
